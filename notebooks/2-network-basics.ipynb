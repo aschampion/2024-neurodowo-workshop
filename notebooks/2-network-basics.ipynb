{
 "cells": [
  {
   "cell_type": "markdown",
   "metadata": {},
   "source": [
    "# Basics of connectomics graph analysis\n",
    "\n",
    "This notebook walks through the basics of representing connectomics data as graphs, inspecting them, applying classic graph analyses, and interpreting the results. We'll make use of the FlyWire dataset for examples, but familiarity with _Drosophila_ or its neurobiology isn't necessary.\n"
   ]
  },
  {
   "cell_type": "markdown",
   "metadata": {},
   "source": [
    "## Setup\n"
   ]
  },
  {
   "cell_type": "code",
   "execution_count": 1,
   "metadata": {},
   "outputs": [
    {
     "name": "stdout",
     "output_type": "stream",
     "text": [
      "Requirement already satisfied: fafbseg in /Users/championa/code/flyconnectome/2024-neurodowo-workshop/.venv/lib/python3.11/site-packages (3.0.10)\n",
      "Requirement already satisfied: numpy<2.0 in /Users/championa/code/flyconnectome/2024-neurodowo-workshop/.venv/lib/python3.11/site-packages (1.26.4)\n",
      "Requirement already satisfied: humanize in /Users/championa/code/flyconnectome/2024-neurodowo-workshop/.venv/lib/python3.11/site-packages (4.10.0)\n",
      "Requirement already satisfied: navis[cloudvolume,fastcore,flybrains,hash,kdtree,shapely] in /Users/championa/code/flyconnectome/2024-neurodowo-workshop/.venv/lib/python3.11/site-packages (1.7.0)\n",
      "Requirement already satisfied: h5py>=3.1 in /Users/championa/code/flyconnectome/2024-neurodowo-workshop/.venv/lib/python3.11/site-packages (from navis[cloudvolume,fastcore,flybrains,hash,kdtree,shapely]) (3.11.0)\n",
      "Requirement already satisfied: matplotlib>=3.6 in /Users/championa/code/flyconnectome/2024-neurodowo-workshop/.venv/lib/python3.11/site-packages (from navis[cloudvolume,fastcore,flybrains,hash,kdtree,shapely]) (3.9.2)\n",
      "Requirement already satisfied: morphops>=0.1.11 in /Users/championa/code/flyconnectome/2024-neurodowo-workshop/.venv/lib/python3.11/site-packages (from navis[cloudvolume,fastcore,flybrains,hash,kdtree,shapely]) (0.1.13)\n",
      "Requirement already satisfied: ncollpyde>=0.18 in /Users/championa/code/flyconnectome/2024-neurodowo-workshop/.venv/lib/python3.11/site-packages (from navis[cloudvolume,fastcore,flybrains,hash,kdtree,shapely]) (0.19.0)\n",
      "Requirement already satisfied: networkx>=2.4 in /Users/championa/code/flyconnectome/2024-neurodowo-workshop/.venv/lib/python3.11/site-packages (from navis[cloudvolume,fastcore,flybrains,hash,kdtree,shapely]) (3.3)\n",
      "Requirement already satisfied: pandas>=1.0 in /Users/championa/code/flyconnectome/2024-neurodowo-workshop/.venv/lib/python3.11/site-packages (from navis[cloudvolume,fastcore,flybrains,hash,kdtree,shapely]) (2.2.2)\n",
      "Requirement already satisfied: pint>=0.10 in /Users/championa/code/flyconnectome/2024-neurodowo-workshop/.venv/lib/python3.11/site-packages (from navis[cloudvolume,fastcore,flybrains,hash,kdtree,shapely]) (0.24.3)\n",
      "Requirement already satisfied: plotly>=4.9 in /Users/championa/code/flyconnectome/2024-neurodowo-workshop/.venv/lib/python3.11/site-packages (from navis[cloudvolume,fastcore,flybrains,hash,kdtree,shapely]) (5.23.0)\n",
      "Requirement already satisfied: pynrrd>=0.4.2 in /Users/championa/code/flyconnectome/2024-neurodowo-workshop/.venv/lib/python3.11/site-packages (from navis[cloudvolume,fastcore,flybrains,hash,kdtree,shapely]) (1.0.0)\n",
      "Requirement already satisfied: pypng>=0.0.18 in /Users/championa/code/flyconnectome/2024-neurodowo-workshop/.venv/lib/python3.11/site-packages (from navis[cloudvolume,fastcore,flybrains,hash,kdtree,shapely]) (0.20220715.0)\n",
      "Requirement already satisfied: requests>=2.20 in /Users/championa/code/flyconnectome/2024-neurodowo-workshop/.venv/lib/python3.11/site-packages (from navis[cloudvolume,fastcore,flybrains,hash,kdtree,shapely]) (2.32.3)\n",
      "Requirement already satisfied: seaborn>=0.10 in /Users/championa/code/flyconnectome/2024-neurodowo-workshop/.venv/lib/python3.11/site-packages (from navis[cloudvolume,fastcore,flybrains,hash,kdtree,shapely]) (0.13.2)\n",
      "Requirement already satisfied: setuptools>=65.5.1 in /Users/championa/code/flyconnectome/2024-neurodowo-workshop/.venv/lib/python3.11/site-packages (from navis[cloudvolume,fastcore,flybrains,hash,kdtree,shapely]) (73.0.1)\n",
      "Requirement already satisfied: scipy>=1.5 in /Users/championa/code/flyconnectome/2024-neurodowo-workshop/.venv/lib/python3.11/site-packages (from navis[cloudvolume,fastcore,flybrains,hash,kdtree,shapely]) (1.14.1)\n",
      "Requirement already satisfied: six>=1.11 in /Users/championa/code/flyconnectome/2024-neurodowo-workshop/.venv/lib/python3.11/site-packages (from navis[cloudvolume,fastcore,flybrains,hash,kdtree,shapely]) (1.16.0)\n",
      "Requirement already satisfied: tqdm>=4.45 in /Users/championa/code/flyconnectome/2024-neurodowo-workshop/.venv/lib/python3.11/site-packages (from navis[cloudvolume,fastcore,flybrains,hash,kdtree,shapely]) (4.66.5)\n",
      "Requirement already satisfied: typing-extensions>=3.7.4 in /Users/championa/code/flyconnectome/2024-neurodowo-workshop/.venv/lib/python3.11/site-packages (from navis[cloudvolume,fastcore,flybrains,hash,kdtree,shapely]) (4.12.2)\n",
      "Requirement already satisfied: trimesh>=3.8 in /Users/championa/code/flyconnectome/2024-neurodowo-workshop/.venv/lib/python3.11/site-packages (from navis[cloudvolume,fastcore,flybrains,hash,kdtree,shapely]) (4.4.7)\n",
      "Requirement already satisfied: fuzzywuzzy>=0.18 in /Users/championa/code/flyconnectome/2024-neurodowo-workshop/.venv/lib/python3.11/site-packages (from navis[cloudvolume,fastcore,flybrains,hash,kdtree,shapely]) (0.18.0)\n",
      "Requirement already satisfied: molesq>=0.2.0 in /Users/championa/code/flyconnectome/2024-neurodowo-workshop/.venv/lib/python3.11/site-packages (from navis[cloudvolume,fastcore,flybrains,hash,kdtree,shapely]) (0.4.0)\n",
      "Requirement already satisfied: rdata>=0.5 in /Users/championa/code/flyconnectome/2024-neurodowo-workshop/.venv/lib/python3.11/site-packages (from navis[cloudvolume,fastcore,flybrains,hash,kdtree,shapely]) (0.11.2)\n",
      "Requirement already satisfied: igraph!=0.10.0,!=0.10.1 in /Users/championa/code/flyconnectome/2024-neurodowo-workshop/.venv/lib/python3.11/site-packages (from navis[cloudvolume,fastcore,flybrains,hash,kdtree,shapely]) (0.11.6)\n",
      "Requirement already satisfied: skeletor>=1.0.0 in /Users/championa/code/flyconnectome/2024-neurodowo-workshop/.venv/lib/python3.11/site-packages (from navis[cloudvolume,fastcore,flybrains,hash,kdtree,shapely]) (1.3.0)\n",
      "Requirement already satisfied: cloud-volume>=5.2.0 in /Users/championa/code/flyconnectome/2024-neurodowo-workshop/.venv/lib/python3.11/site-packages (from navis[cloudvolume,fastcore,flybrains,hash,kdtree,shapely]) (10.4.0)\n",
      "Requirement already satisfied: navis-fastcore>=0.0.4 in /Users/championa/code/flyconnectome/2024-neurodowo-workshop/.venv/lib/python3.11/site-packages (from navis[cloudvolume,fastcore,flybrains,hash,kdtree,shapely]) (0.0.4)\n",
      "Requirement already satisfied: flybrains in /Users/championa/code/flyconnectome/2024-neurodowo-workshop/.venv/lib/python3.11/site-packages (from navis[cloudvolume,fastcore,flybrains,hash,kdtree,shapely]) (0.2.11)\n",
      "Requirement already satisfied: xxhash in /Users/championa/code/flyconnectome/2024-neurodowo-workshop/.venv/lib/python3.11/site-packages (from navis[cloudvolume,fastcore,flybrains,hash,kdtree,shapely]) (3.5.0)\n",
      "Requirement already satisfied: pykdtree in /Users/championa/code/flyconnectome/2024-neurodowo-workshop/.venv/lib/python3.11/site-packages (from navis[cloudvolume,fastcore,flybrains,hash,kdtree,shapely]) (1.3.12)\n",
      "Requirement already satisfied: Shapely>=1.6.0 in /Users/championa/code/flyconnectome/2024-neurodowo-workshop/.venv/lib/python3.11/site-packages (from navis[cloudvolume,fastcore,flybrains,hash,kdtree,shapely]) (2.0.6)\n",
      "Requirement already satisfied: caveclient>=5.4.2 in /Users/championa/code/flyconnectome/2024-neurodowo-workshop/.venv/lib/python3.11/site-packages (from fafbseg) (5.25.2)\n",
      "Requirement already satisfied: diskcache in /Users/championa/code/flyconnectome/2024-neurodowo-workshop/.venv/lib/python3.11/site-packages (from fafbseg) (5.6.3)\n",
      "Requirement already satisfied: fastremap in /Users/championa/code/flyconnectome/2024-neurodowo-workshop/.venv/lib/python3.11/site-packages (from fafbseg) (1.15.0)\n",
      "Requirement already satisfied: inquirer>=2.6 in /Users/championa/code/flyconnectome/2024-neurodowo-workshop/.venv/lib/python3.11/site-packages (from fafbseg) (3.4.0)\n",
      "Requirement already satisfied: ipython in /Users/championa/code/flyconnectome/2024-neurodowo-workshop/.venv/lib/python3.11/site-packages (from fafbseg) (8.26.0)\n",
      "Requirement already satisfied: pyarrow>=3.0.0 in /Users/championa/code/flyconnectome/2024-neurodowo-workshop/.venv/lib/python3.11/site-packages (from fafbseg) (17.0.0)\n",
      "Requirement already satisfied: pyperclip in /Users/championa/code/flyconnectome/2024-neurodowo-workshop/.venv/lib/python3.11/site-packages (from fafbseg) (1.9.0)\n",
      "Requirement already satisfied: python-catmaid>=2.0.2 in /Users/championa/code/flyconnectome/2024-neurodowo-workshop/.venv/lib/python3.11/site-packages (from fafbseg) (2.4.0)\n",
      "Requirement already satisfied: requests-futures in /Users/championa/code/flyconnectome/2024-neurodowo-workshop/.venv/lib/python3.11/site-packages (from fafbseg) (1.0.1)\n",
      "Requirement already satisfied: urllib3 in /Users/championa/code/flyconnectome/2024-neurodowo-workshop/.venv/lib/python3.11/site-packages (from caveclient>=5.4.2->fafbseg) (2.2.2)\n",
      "Requirement already satisfied: cachetools>=4.2.1 in /Users/championa/code/flyconnectome/2024-neurodowo-workshop/.venv/lib/python3.11/site-packages (from caveclient>=5.4.2->fafbseg) (5.5.0)\n",
      "Requirement already satisfied: jsonschema in /Users/championa/code/flyconnectome/2024-neurodowo-workshop/.venv/lib/python3.11/site-packages (from caveclient>=5.4.2->fafbseg) (4.23.0)\n",
      "Requirement already satisfied: attrs>=21.3.0 in /Users/championa/code/flyconnectome/2024-neurodowo-workshop/.venv/lib/python3.11/site-packages (from caveclient>=5.4.2->fafbseg) (24.2.0)\n",
      "Requirement already satisfied: boto3>=1.4.7 in /Users/championa/code/flyconnectome/2024-neurodowo-workshop/.venv/lib/python3.11/site-packages (from cloud-volume>=5.2.0->navis[cloudvolume,fastcore,flybrains,hash,kdtree,shapely]) (1.35.3)\n",
      "Requirement already satisfied: chardet>=3.0.4 in /Users/championa/code/flyconnectome/2024-neurodowo-workshop/.venv/lib/python3.11/site-packages (from cloud-volume>=5.2.0->navis[cloudvolume,fastcore,flybrains,hash,kdtree,shapely]) (5.2.0)\n",
      "Requirement already satisfied: cloud-files<5.0.0,>=4.24.0 in /Users/championa/code/flyconnectome/2024-neurodowo-workshop/.venv/lib/python3.11/site-packages (from cloud-volume>=5.2.0->navis[cloudvolume,fastcore,flybrains,hash,kdtree,shapely]) (4.27.0)\n",
      "Requirement already satisfied: compressed-segmentation>=2.1.1 in /Users/championa/code/flyconnectome/2024-neurodowo-workshop/.venv/lib/python3.11/site-packages (from cloud-volume>=5.2.0->navis[cloudvolume,fastcore,flybrains,hash,kdtree,shapely]) (2.3.1)\n",
      "Requirement already satisfied: DracoPy<2.0.0,>=1.0.0 in /Users/championa/code/flyconnectome/2024-neurodowo-workshop/.venv/lib/python3.11/site-packages (from cloud-volume>=5.2.0->navis[cloudvolume,fastcore,flybrains,hash,kdtree,shapely]) (1.4.0)\n",
      "Requirement already satisfied: gevent in /Users/championa/code/flyconnectome/2024-neurodowo-workshop/.venv/lib/python3.11/site-packages (from cloud-volume>=5.2.0->navis[cloudvolume,fastcore,flybrains,hash,kdtree,shapely]) (24.2.1)\n",
      "Requirement already satisfied: google-auth>=1.10.0 in /Users/championa/code/flyconnectome/2024-neurodowo-workshop/.venv/lib/python3.11/site-packages (from cloud-volume>=5.2.0->navis[cloudvolume,fastcore,flybrains,hash,kdtree,shapely]) (2.34.0)\n",
      "Requirement already satisfied: google-cloud-core>=1.1.0 in /Users/championa/code/flyconnectome/2024-neurodowo-workshop/.venv/lib/python3.11/site-packages (from cloud-volume>=5.2.0->navis[cloudvolume,fastcore,flybrains,hash,kdtree,shapely]) (2.4.1)\n",
      "Requirement already satisfied: google-cloud-storage>=1.24.1 in /Users/championa/code/flyconnectome/2024-neurodowo-workshop/.venv/lib/python3.11/site-packages (from cloud-volume>=5.2.0->navis[cloudvolume,fastcore,flybrains,hash,kdtree,shapely]) (2.18.2)\n",
      "Requirement already satisfied: json5 in /Users/championa/code/flyconnectome/2024-neurodowo-workshop/.venv/lib/python3.11/site-packages (from cloud-volume>=5.2.0->navis[cloudvolume,fastcore,flybrains,hash,kdtree,shapely]) (0.9.25)\n",
      "Requirement already satisfied: microviewer in /Users/championa/code/flyconnectome/2024-neurodowo-workshop/.venv/lib/python3.11/site-packages (from cloud-volume>=5.2.0->navis[cloudvolume,fastcore,flybrains,hash,kdtree,shapely]) (1.9.0)\n",
      "Requirement already satisfied: python-jsonschema-objects>=0.3.3 in /Users/championa/code/flyconnectome/2024-neurodowo-workshop/.venv/lib/python3.11/site-packages (from cloud-volume>=5.2.0->navis[cloudvolume,fastcore,flybrains,hash,kdtree,shapely]) (0.5.5)\n",
      "Requirement already satisfied: pathos in /Users/championa/code/flyconnectome/2024-neurodowo-workshop/.venv/lib/python3.11/site-packages (from cloud-volume>=5.2.0->navis[cloudvolume,fastcore,flybrains,hash,kdtree,shapely]) (0.3.2)\n",
      "Requirement already satisfied: protobuf>=3.3.0 in /Users/championa/code/flyconnectome/2024-neurodowo-workshop/.venv/lib/python3.11/site-packages (from cloud-volume>=5.2.0->navis[cloudvolume,fastcore,flybrains,hash,kdtree,shapely]) (5.27.3)\n",
      "Requirement already satisfied: python-dateutil in /Users/championa/code/flyconnectome/2024-neurodowo-workshop/.venv/lib/python3.11/site-packages (from cloud-volume>=5.2.0->navis[cloudvolume,fastcore,flybrains,hash,kdtree,shapely]) (2.9.0.post0)\n",
      "Requirement already satisfied: psutil in /Users/championa/code/flyconnectome/2024-neurodowo-workshop/.venv/lib/python3.11/site-packages (from cloud-volume>=5.2.0->navis[cloudvolume,fastcore,flybrains,hash,kdtree,shapely]) (6.0.0)\n",
      "Requirement already satisfied: pysimdjson>=3.1.1 in /Users/championa/code/flyconnectome/2024-neurodowo-workshop/.venv/lib/python3.11/site-packages (from cloud-volume>=5.2.0->navis[cloudvolume,fastcore,flybrains,hash,kdtree,shapely]) (6.0.2)\n",
      "Requirement already satisfied: simplejpeg in /Users/championa/code/flyconnectome/2024-neurodowo-workshop/.venv/lib/python3.11/site-packages (from cloud-volume>=5.2.0->navis[cloudvolume,fastcore,flybrains,hash,kdtree,shapely]) (1.7.4)\n",
      "Requirement already satisfied: tenacity>=4.10.0 in /Users/championa/code/flyconnectome/2024-neurodowo-workshop/.venv/lib/python3.11/site-packages (from cloud-volume>=5.2.0->navis[cloudvolume,fastcore,flybrains,hash,kdtree,shapely]) (9.0.0)\n",
      "Requirement already satisfied: posix-ipc>=1.0.4 in /Users/championa/code/flyconnectome/2024-neurodowo-workshop/.venv/lib/python3.11/site-packages (from cloud-volume>=5.2.0->navis[cloudvolume,fastcore,flybrains,hash,kdtree,shapely]) (1.1.1)\n",
      "Requirement already satisfied: texttable>=1.6.2 in /Users/championa/code/flyconnectome/2024-neurodowo-workshop/.venv/lib/python3.11/site-packages (from igraph!=0.10.0,!=0.10.1->navis[cloudvolume,fastcore,flybrains,hash,kdtree,shapely]) (1.7.0)\n",
      "Requirement already satisfied: blessed>=1.19.0 in /Users/championa/code/flyconnectome/2024-neurodowo-workshop/.venv/lib/python3.11/site-packages (from inquirer>=2.6->fafbseg) (1.20.0)\n",
      "Requirement already satisfied: editor>=1.6.0 in /Users/championa/code/flyconnectome/2024-neurodowo-workshop/.venv/lib/python3.11/site-packages (from inquirer>=2.6->fafbseg) (1.6.6)\n",
      "Requirement already satisfied: readchar>=4.2.0 in /Users/championa/code/flyconnectome/2024-neurodowo-workshop/.venv/lib/python3.11/site-packages (from inquirer>=2.6->fafbseg) (4.2.0)\n",
      "Requirement already satisfied: contourpy>=1.0.1 in /Users/championa/code/flyconnectome/2024-neurodowo-workshop/.venv/lib/python3.11/site-packages (from matplotlib>=3.6->navis[cloudvolume,fastcore,flybrains,hash,kdtree,shapely]) (1.2.1)\n",
      "Requirement already satisfied: cycler>=0.10 in /Users/championa/code/flyconnectome/2024-neurodowo-workshop/.venv/lib/python3.11/site-packages (from matplotlib>=3.6->navis[cloudvolume,fastcore,flybrains,hash,kdtree,shapely]) (0.12.1)\n",
      "Requirement already satisfied: fonttools>=4.22.0 in /Users/championa/code/flyconnectome/2024-neurodowo-workshop/.venv/lib/python3.11/site-packages (from matplotlib>=3.6->navis[cloudvolume,fastcore,flybrains,hash,kdtree,shapely]) (4.53.1)\n",
      "Requirement already satisfied: kiwisolver>=1.3.1 in /Users/championa/code/flyconnectome/2024-neurodowo-workshop/.venv/lib/python3.11/site-packages (from matplotlib>=3.6->navis[cloudvolume,fastcore,flybrains,hash,kdtree,shapely]) (1.4.5)\n",
      "Requirement already satisfied: packaging>=20.0 in /Users/championa/code/flyconnectome/2024-neurodowo-workshop/.venv/lib/python3.11/site-packages (from matplotlib>=3.6->navis[cloudvolume,fastcore,flybrains,hash,kdtree,shapely]) (24.1)\n",
      "Requirement already satisfied: pillow>=8 in /Users/championa/code/flyconnectome/2024-neurodowo-workshop/.venv/lib/python3.11/site-packages (from matplotlib>=3.6->navis[cloudvolume,fastcore,flybrains,hash,kdtree,shapely]) (10.4.0)\n",
      "Requirement already satisfied: pyparsing>=2.3.1 in /Users/championa/code/flyconnectome/2024-neurodowo-workshop/.venv/lib/python3.11/site-packages (from matplotlib>=3.6->navis[cloudvolume,fastcore,flybrains,hash,kdtree,shapely]) (3.1.2)\n",
      "Requirement already satisfied: pytz>=2020.1 in /Users/championa/code/flyconnectome/2024-neurodowo-workshop/.venv/lib/python3.11/site-packages (from pandas>=1.0->navis[cloudvolume,fastcore,flybrains,hash,kdtree,shapely]) (2024.1)\n",
      "Requirement already satisfied: tzdata>=2022.7 in /Users/championa/code/flyconnectome/2024-neurodowo-workshop/.venv/lib/python3.11/site-packages (from pandas>=1.0->navis[cloudvolume,fastcore,flybrains,hash,kdtree,shapely]) (2024.1)\n",
      "Requirement already satisfied: appdirs>=1.4.4 in /Users/championa/code/flyconnectome/2024-neurodowo-workshop/.venv/lib/python3.11/site-packages (from pint>=0.10->navis[cloudvolume,fastcore,flybrains,hash,kdtree,shapely]) (1.4.4)\n",
      "Requirement already satisfied: flexcache>=0.3 in /Users/championa/code/flyconnectome/2024-neurodowo-workshop/.venv/lib/python3.11/site-packages (from pint>=0.10->navis[cloudvolume,fastcore,flybrains,hash,kdtree,shapely]) (0.3)\n",
      "Requirement already satisfied: flexparser>=0.3 in /Users/championa/code/flyconnectome/2024-neurodowo-workshop/.venv/lib/python3.11/site-packages (from pint>=0.10->navis[cloudvolume,fastcore,flybrains,hash,kdtree,shapely]) (0.3.1)\n",
      "Requirement already satisfied: nptyping in /Users/championa/code/flyconnectome/2024-neurodowo-workshop/.venv/lib/python3.11/site-packages (from pynrrd>=0.4.2->navis[cloudvolume,fastcore,flybrains,hash,kdtree,shapely]) (2.0.1)\n",
      "Requirement already satisfied: xarray in /Users/championa/code/flyconnectome/2024-neurodowo-workshop/.venv/lib/python3.11/site-packages (from rdata>=0.5->navis[cloudvolume,fastcore,flybrains,hash,kdtree,shapely]) (2024.7.0)\n",
      "Requirement already satisfied: charset-normalizer<4,>=2 in /Users/championa/code/flyconnectome/2024-neurodowo-workshop/.venv/lib/python3.11/site-packages (from requests>=2.20->navis[cloudvolume,fastcore,flybrains,hash,kdtree,shapely]) (3.3.2)\n",
      "Requirement already satisfied: idna<4,>=2.5 in /Users/championa/code/flyconnectome/2024-neurodowo-workshop/.venv/lib/python3.11/site-packages (from requests>=2.20->navis[cloudvolume,fastcore,flybrains,hash,kdtree,shapely]) (3.7)\n",
      "Requirement already satisfied: certifi>=2017.4.17 in /Users/championa/code/flyconnectome/2024-neurodowo-workshop/.venv/lib/python3.11/site-packages (from requests>=2.20->navis[cloudvolume,fastcore,flybrains,hash,kdtree,shapely]) (2024.7.4)\n",
      "Requirement already satisfied: scikit-learn>=0.23 in /Users/championa/code/flyconnectome/2024-neurodowo-workshop/.venv/lib/python3.11/site-packages (from skeletor>=1.0.0->navis[cloudvolume,fastcore,flybrains,hash,kdtree,shapely]) (1.5.1)\n",
      "Requirement already satisfied: gitpython in /Users/championa/code/flyconnectome/2024-neurodowo-workshop/.venv/lib/python3.11/site-packages (from flybrains->navis[cloudvolume,fastcore,flybrains,hash,kdtree,shapely]) (3.1.43)\n",
      "Requirement already satisfied: decorator in /Users/championa/code/flyconnectome/2024-neurodowo-workshop/.venv/lib/python3.11/site-packages (from ipython->fafbseg) (5.1.1)\n",
      "Requirement already satisfied: jedi>=0.16 in /Users/championa/code/flyconnectome/2024-neurodowo-workshop/.venv/lib/python3.11/site-packages (from ipython->fafbseg) (0.19.1)\n",
      "Requirement already satisfied: matplotlib-inline in /Users/championa/code/flyconnectome/2024-neurodowo-workshop/.venv/lib/python3.11/site-packages (from ipython->fafbseg) (0.1.7)\n",
      "Requirement already satisfied: prompt-toolkit<3.1.0,>=3.0.41 in /Users/championa/code/flyconnectome/2024-neurodowo-workshop/.venv/lib/python3.11/site-packages (from ipython->fafbseg) (3.0.47)\n",
      "Requirement already satisfied: pygments>=2.4.0 in /Users/championa/code/flyconnectome/2024-neurodowo-workshop/.venv/lib/python3.11/site-packages (from ipython->fafbseg) (2.18.0)\n",
      "Requirement already satisfied: stack-data in /Users/championa/code/flyconnectome/2024-neurodowo-workshop/.venv/lib/python3.11/site-packages (from ipython->fafbseg) (0.6.3)\n",
      "Requirement already satisfied: traitlets>=5.13.0 in /Users/championa/code/flyconnectome/2024-neurodowo-workshop/.venv/lib/python3.11/site-packages (from ipython->fafbseg) (5.14.3)\n",
      "Requirement already satisfied: pexpect>4.3 in /Users/championa/code/flyconnectome/2024-neurodowo-workshop/.venv/lib/python3.11/site-packages (from ipython->fafbseg) (4.9.0)\n",
      "Requirement already satisfied: wcwidth>=0.1.4 in /Users/championa/code/flyconnectome/2024-neurodowo-workshop/.venv/lib/python3.11/site-packages (from blessed>=1.19.0->inquirer>=2.6->fafbseg) (0.2.13)\n",
      "Requirement already satisfied: botocore<1.36.0,>=1.35.3 in /Users/championa/code/flyconnectome/2024-neurodowo-workshop/.venv/lib/python3.11/site-packages (from boto3>=1.4.7->cloud-volume>=5.2.0->navis[cloudvolume,fastcore,flybrains,hash,kdtree,shapely]) (1.35.3)\n",
      "Requirement already satisfied: jmespath<2.0.0,>=0.7.1 in /Users/championa/code/flyconnectome/2024-neurodowo-workshop/.venv/lib/python3.11/site-packages (from boto3>=1.4.7->cloud-volume>=5.2.0->navis[cloudvolume,fastcore,flybrains,hash,kdtree,shapely]) (1.0.1)\n",
      "Requirement already satisfied: s3transfer<0.11.0,>=0.10.0 in /Users/championa/code/flyconnectome/2024-neurodowo-workshop/.venv/lib/python3.11/site-packages (from boto3>=1.4.7->cloud-volume>=5.2.0->navis[cloudvolume,fastcore,flybrains,hash,kdtree,shapely]) (0.10.2)\n",
      "Requirement already satisfied: brotli in /Users/championa/code/flyconnectome/2024-neurodowo-workshop/.venv/lib/python3.11/site-packages (from cloud-files<5.0.0,>=4.24.0->cloud-volume>=5.2.0->navis[cloudvolume,fastcore,flybrains,hash,kdtree,shapely]) (1.1.0)\n",
      "Requirement already satisfied: crc32c in /Users/championa/code/flyconnectome/2024-neurodowo-workshop/.venv/lib/python3.11/site-packages (from cloud-files<5.0.0,>=4.24.0->cloud-volume>=5.2.0->navis[cloudvolume,fastcore,flybrains,hash,kdtree,shapely]) (2.6)\n",
      "Requirement already satisfied: click in /Users/championa/code/flyconnectome/2024-neurodowo-workshop/.venv/lib/python3.11/site-packages (from cloud-files<5.0.0,>=4.24.0->cloud-volume>=5.2.0->navis[cloudvolume,fastcore,flybrains,hash,kdtree,shapely]) (8.1.7)\n",
      "Requirement already satisfied: deflate>=0.2.0 in /Users/championa/code/flyconnectome/2024-neurodowo-workshop/.venv/lib/python3.11/site-packages (from cloud-files<5.0.0,>=4.24.0->cloud-volume>=5.2.0->navis[cloudvolume,fastcore,flybrains,hash,kdtree,shapely]) (0.7.0)\n",
      "Requirement already satisfied: google-crc32c>=1.0.0 in /Users/championa/code/flyconnectome/2024-neurodowo-workshop/.venv/lib/python3.11/site-packages (from cloud-files<5.0.0,>=4.24.0->cloud-volume>=5.2.0->navis[cloudvolume,fastcore,flybrains,hash,kdtree,shapely]) (1.5.0)\n",
      "Requirement already satisfied: orjson in /Users/championa/code/flyconnectome/2024-neurodowo-workshop/.venv/lib/python3.11/site-packages (from cloud-files<5.0.0,>=4.24.0->cloud-volume>=5.2.0->navis[cloudvolume,fastcore,flybrains,hash,kdtree,shapely]) (3.10.7)\n",
      "Requirement already satisfied: zstandard in /Users/championa/code/flyconnectome/2024-neurodowo-workshop/.venv/lib/python3.11/site-packages (from cloud-files<5.0.0,>=4.24.0->cloud-volume>=5.2.0->navis[cloudvolume,fastcore,flybrains,hash,kdtree,shapely]) (0.23.0)\n",
      "Requirement already satisfied: rsa>=4.7.2 in /Users/championa/code/flyconnectome/2024-neurodowo-workshop/.venv/lib/python3.11/site-packages (from cloud-files<5.0.0,>=4.24.0->cloud-volume>=5.2.0->navis[cloudvolume,fastcore,flybrains,hash,kdtree,shapely]) (4.9)\n",
      "Requirement already satisfied: fasteners in /Users/championa/code/flyconnectome/2024-neurodowo-workshop/.venv/lib/python3.11/site-packages (from cloud-files<5.0.0,>=4.24.0->cloud-volume>=5.2.0->navis[cloudvolume,fastcore,flybrains,hash,kdtree,shapely]) (0.19)\n",
      "Requirement already satisfied: pytest in /Users/championa/code/flyconnectome/2024-neurodowo-workshop/.venv/lib/python3.11/site-packages (from compressed-segmentation>=2.1.1->cloud-volume>=5.2.0->navis[cloudvolume,fastcore,flybrains,hash,kdtree,shapely]) (8.3.2)\n",
      "Requirement already satisfied: runs in /Users/championa/code/flyconnectome/2024-neurodowo-workshop/.venv/lib/python3.11/site-packages (from editor>=1.6.0->inquirer>=2.6->fafbseg) (1.2.2)\n",
      "Requirement already satisfied: xmod in /Users/championa/code/flyconnectome/2024-neurodowo-workshop/.venv/lib/python3.11/site-packages (from editor>=1.6.0->inquirer>=2.6->fafbseg) (1.8.1)\n",
      "Requirement already satisfied: pyasn1-modules>=0.2.1 in /Users/championa/code/flyconnectome/2024-neurodowo-workshop/.venv/lib/python3.11/site-packages (from google-auth>=1.10.0->cloud-volume>=5.2.0->navis[cloudvolume,fastcore,flybrains,hash,kdtree,shapely]) (0.4.0)\n",
      "Requirement already satisfied: google-api-core!=2.0.*,!=2.1.*,!=2.2.*,!=2.3.0,<3.0.0dev,>=1.31.6 in /Users/championa/code/flyconnectome/2024-neurodowo-workshop/.venv/lib/python3.11/site-packages (from google-cloud-core>=1.1.0->cloud-volume>=5.2.0->navis[cloudvolume,fastcore,flybrains,hash,kdtree,shapely]) (2.19.1)\n",
      "Requirement already satisfied: google-resumable-media>=2.7.2 in /Users/championa/code/flyconnectome/2024-neurodowo-workshop/.venv/lib/python3.11/site-packages (from google-cloud-storage>=1.24.1->cloud-volume>=5.2.0->navis[cloudvolume,fastcore,flybrains,hash,kdtree,shapely]) (2.7.2)\n",
      "Requirement already satisfied: parso<0.9.0,>=0.8.3 in /Users/championa/code/flyconnectome/2024-neurodowo-workshop/.venv/lib/python3.11/site-packages (from jedi>=0.16->ipython->fafbseg) (0.8.4)\n",
      "Requirement already satisfied: jsonschema-specifications>=2023.03.6 in /Users/championa/code/flyconnectome/2024-neurodowo-workshop/.venv/lib/python3.11/site-packages (from jsonschema->caveclient>=5.4.2->fafbseg) (2023.12.1)\n",
      "Requirement already satisfied: referencing>=0.28.4 in /Users/championa/code/flyconnectome/2024-neurodowo-workshop/.venv/lib/python3.11/site-packages (from jsonschema->caveclient>=5.4.2->fafbseg) (0.35.1)\n",
      "Requirement already satisfied: rpds-py>=0.7.1 in /Users/championa/code/flyconnectome/2024-neurodowo-workshop/.venv/lib/python3.11/site-packages (from jsonschema->caveclient>=5.4.2->fafbseg) (0.20.0)\n",
      "Requirement already satisfied: ptyprocess>=0.5 in /Users/championa/code/flyconnectome/2024-neurodowo-workshop/.venv/lib/python3.11/site-packages (from pexpect>4.3->ipython->fafbseg) (0.7.0)\n",
      "Requirement already satisfied: inflection>=0.2 in /Users/championa/code/flyconnectome/2024-neurodowo-workshop/.venv/lib/python3.11/site-packages (from python-jsonschema-objects>=0.3.3->cloud-volume>=5.2.0->navis[cloudvolume,fastcore,flybrains,hash,kdtree,shapely]) (0.5.1)\n",
      "Requirement already satisfied: Markdown>=2.4 in /Users/championa/code/flyconnectome/2024-neurodowo-workshop/.venv/lib/python3.11/site-packages (from python-jsonschema-objects>=0.3.3->cloud-volume>=5.2.0->navis[cloudvolume,fastcore,flybrains,hash,kdtree,shapely]) (3.7)\n",
      "Requirement already satisfied: joblib>=1.2.0 in /Users/championa/code/flyconnectome/2024-neurodowo-workshop/.venv/lib/python3.11/site-packages (from scikit-learn>=0.23->skeletor>=1.0.0->navis[cloudvolume,fastcore,flybrains,hash,kdtree,shapely]) (1.4.2)\n",
      "Requirement already satisfied: threadpoolctl>=3.1.0 in /Users/championa/code/flyconnectome/2024-neurodowo-workshop/.venv/lib/python3.11/site-packages (from scikit-learn>=0.23->skeletor>=1.0.0->navis[cloudvolume,fastcore,flybrains,hash,kdtree,shapely]) (3.5.0)\n",
      "Requirement already satisfied: zope.event in /Users/championa/code/flyconnectome/2024-neurodowo-workshop/.venv/lib/python3.11/site-packages (from gevent->cloud-volume>=5.2.0->navis[cloudvolume,fastcore,flybrains,hash,kdtree,shapely]) (5.0)\n",
      "Requirement already satisfied: zope.interface in /Users/championa/code/flyconnectome/2024-neurodowo-workshop/.venv/lib/python3.11/site-packages (from gevent->cloud-volume>=5.2.0->navis[cloudvolume,fastcore,flybrains,hash,kdtree,shapely]) (7.0.1)\n",
      "Requirement already satisfied: greenlet>=3.0rc3 in /Users/championa/code/flyconnectome/2024-neurodowo-workshop/.venv/lib/python3.11/site-packages (from gevent->cloud-volume>=5.2.0->navis[cloudvolume,fastcore,flybrains,hash,kdtree,shapely]) (3.0.3)\n",
      "Requirement already satisfied: gitdb<5,>=4.0.1 in /Users/championa/code/flyconnectome/2024-neurodowo-workshop/.venv/lib/python3.11/site-packages (from gitpython->flybrains->navis[cloudvolume,fastcore,flybrains,hash,kdtree,shapely]) (4.0.11)\n",
      "Requirement already satisfied: ppft>=1.7.6.8 in /Users/championa/code/flyconnectome/2024-neurodowo-workshop/.venv/lib/python3.11/site-packages (from pathos->cloud-volume>=5.2.0->navis[cloudvolume,fastcore,flybrains,hash,kdtree,shapely]) (1.7.6.8)\n",
      "Requirement already satisfied: dill>=0.3.8 in /Users/championa/code/flyconnectome/2024-neurodowo-workshop/.venv/lib/python3.11/site-packages (from pathos->cloud-volume>=5.2.0->navis[cloudvolume,fastcore,flybrains,hash,kdtree,shapely]) (0.3.8)\n",
      "Requirement already satisfied: pox>=0.3.4 in /Users/championa/code/flyconnectome/2024-neurodowo-workshop/.venv/lib/python3.11/site-packages (from pathos->cloud-volume>=5.2.0->navis[cloudvolume,fastcore,flybrains,hash,kdtree,shapely]) (0.3.4)\n",
      "Requirement already satisfied: multiprocess>=0.70.16 in /Users/championa/code/flyconnectome/2024-neurodowo-workshop/.venv/lib/python3.11/site-packages (from pathos->cloud-volume>=5.2.0->navis[cloudvolume,fastcore,flybrains,hash,kdtree,shapely]) (0.70.16)\n",
      "Requirement already satisfied: executing>=1.2.0 in /Users/championa/code/flyconnectome/2024-neurodowo-workshop/.venv/lib/python3.11/site-packages (from stack-data->ipython->fafbseg) (2.0.1)\n",
      "Requirement already satisfied: asttokens>=2.1.0 in /Users/championa/code/flyconnectome/2024-neurodowo-workshop/.venv/lib/python3.11/site-packages (from stack-data->ipython->fafbseg) (2.4.1)\n",
      "Requirement already satisfied: pure-eval in /Users/championa/code/flyconnectome/2024-neurodowo-workshop/.venv/lib/python3.11/site-packages (from stack-data->ipython->fafbseg) (0.2.3)\n",
      "Requirement already satisfied: smmap<6,>=3.0.1 in /Users/championa/code/flyconnectome/2024-neurodowo-workshop/.venv/lib/python3.11/site-packages (from gitdb<5,>=4.0.1->gitpython->flybrains->navis[cloudvolume,fastcore,flybrains,hash,kdtree,shapely]) (5.0.1)\n",
      "Requirement already satisfied: googleapis-common-protos<2.0.dev0,>=1.56.2 in /Users/championa/code/flyconnectome/2024-neurodowo-workshop/.venv/lib/python3.11/site-packages (from google-api-core!=2.0.*,!=2.1.*,!=2.2.*,!=2.3.0,<3.0.0dev,>=1.31.6->google-cloud-core>=1.1.0->cloud-volume>=5.2.0->navis[cloudvolume,fastcore,flybrains,hash,kdtree,shapely]) (1.63.2)\n",
      "Requirement already satisfied: proto-plus<2.0.0dev,>=1.22.3 in /Users/championa/code/flyconnectome/2024-neurodowo-workshop/.venv/lib/python3.11/site-packages (from google-api-core!=2.0.*,!=2.1.*,!=2.2.*,!=2.3.0,<3.0.0dev,>=1.31.6->google-cloud-core>=1.1.0->cloud-volume>=5.2.0->navis[cloudvolume,fastcore,flybrains,hash,kdtree,shapely]) (1.24.0)\n",
      "Requirement already satisfied: pyasn1<0.7.0,>=0.4.6 in /Users/championa/code/flyconnectome/2024-neurodowo-workshop/.venv/lib/python3.11/site-packages (from pyasn1-modules>=0.2.1->google-auth>=1.10.0->cloud-volume>=5.2.0->navis[cloudvolume,fastcore,flybrains,hash,kdtree,shapely]) (0.6.0)\n",
      "Requirement already satisfied: iniconfig in /Users/championa/code/flyconnectome/2024-neurodowo-workshop/.venv/lib/python3.11/site-packages (from pytest->compressed-segmentation>=2.1.1->cloud-volume>=5.2.0->navis[cloudvolume,fastcore,flybrains,hash,kdtree,shapely]) (2.0.0)\n",
      "Requirement already satisfied: pluggy<2,>=1.5 in /Users/championa/code/flyconnectome/2024-neurodowo-workshop/.venv/lib/python3.11/site-packages (from pytest->compressed-segmentation>=2.1.1->cloud-volume>=5.2.0->navis[cloudvolume,fastcore,flybrains,hash,kdtree,shapely]) (1.5.0)\n"
     ]
    }
   ],
   "source": [
    "# If you need to install the dependencies into your environment,\n",
    "# uncomment the following line and execute this cell.\n",
    "\n",
    "! pip install \"navis[fastcore,kdtree,shapely,hash,flybrains,cloudvolume]\" fafbseg \"numpy<2.0\" humanize"
   ]
  },
  {
   "cell_type": "code",
   "execution_count": 2,
   "metadata": {},
   "outputs": [],
   "source": [
    "# Pathlib is a builtin Python library for working with file paths\n",
    "# consistently across computer platforms, like Windows, MacOS, and Linux.\n",
    "from pathlib import Path\n",
    "\n",
    "# Numpy is the community standard library for working with numeric arrays.\n",
    "import numpy as np\n",
    "\n",
    "# Pandas is a popular library for working with tabular data.\n",
    "import pandas as pd\n",
    "\n",
    "# Matplotlib is the most commmon Python plotting library.\n",
    "from matplotlib import pyplot as plt\n",
    "\n",
    "# Seaborn is a popular plottling library built on top of matplotlib, making\n",
    "# it sometimes simpler to produce nice plots in common cases.\n",
    "import seaborn as sns\n"
   ]
  },
  {
   "cell_type": "markdown",
   "metadata": {},
   "source": [
    "## Downloading a Fly Brain\n",
    "\n",
    "Let's jump straight in to the synaptic connectome of the fly by loading a list of synaptic edges and neuron annotations, then inspecting the general format of the data. In a moment we'll reflect on how else we might represent a connectome.\n"
   ]
  },
  {
   "cell_type": "markdown",
   "metadata": {},
   "source": [
    "### Synaptic Edges\n"
   ]
  },
  {
   "cell_type": "code",
   "execution_count": 3,
   "metadata": {},
   "outputs": [
    {
     "data": {
      "text/html": [
       "<div>\n",
       "<style scoped>\n",
       "    .dataframe tbody tr th:only-of-type {\n",
       "        vertical-align: middle;\n",
       "    }\n",
       "\n",
       "    .dataframe tbody tr th {\n",
       "        vertical-align: top;\n",
       "    }\n",
       "\n",
       "    .dataframe thead th {\n",
       "        text-align: right;\n",
       "    }\n",
       "</style>\n",
       "<table border=\"1\" class=\"dataframe\">\n",
       "  <thead>\n",
       "    <tr style=\"text-align: right;\">\n",
       "      <th></th>\n",
       "      <th>pre_root_id</th>\n",
       "      <th>post_root_id</th>\n",
       "      <th>neuropil</th>\n",
       "      <th>syn_count</th>\n",
       "      <th>nt_type</th>\n",
       "    </tr>\n",
       "  </thead>\n",
       "  <tbody>\n",
       "    <tr>\n",
       "      <th>0</th>\n",
       "      <td>720575940629970489</td>\n",
       "      <td>720575940631267655</td>\n",
       "      <td>AVLP_R</td>\n",
       "      <td>7</td>\n",
       "      <td>GABA</td>\n",
       "    </tr>\n",
       "    <tr>\n",
       "      <th>1</th>\n",
       "      <td>720575940605876866</td>\n",
       "      <td>720575940606514878</td>\n",
       "      <td>LAL_R</td>\n",
       "      <td>15</td>\n",
       "      <td>GABA</td>\n",
       "    </tr>\n",
       "    <tr>\n",
       "      <th>2</th>\n",
       "      <td>720575940627737365</td>\n",
       "      <td>720575940628914436</td>\n",
       "      <td>AL_L</td>\n",
       "      <td>32</td>\n",
       "      <td>ACH</td>\n",
       "    </tr>\n",
       "    <tr>\n",
       "      <th>3</th>\n",
       "      <td>720575940633587552</td>\n",
       "      <td>720575940626452879</td>\n",
       "      <td>SMP_R</td>\n",
       "      <td>15</td>\n",
       "      <td>ACH</td>\n",
       "    </tr>\n",
       "    <tr>\n",
       "      <th>4</th>\n",
       "      <td>720575940616871878</td>\n",
       "      <td>720575940621203973</td>\n",
       "      <td>AVLP_L</td>\n",
       "      <td>13</td>\n",
       "      <td>GABA</td>\n",
       "    </tr>\n",
       "  </tbody>\n",
       "</table>\n",
       "</div>"
      ],
      "text/plain": [
       "          pre_root_id        post_root_id neuropil  syn_count nt_type\n",
       "0  720575940629970489  720575940631267655   AVLP_R          7    GABA\n",
       "1  720575940605876866  720575940606514878    LAL_R         15    GABA\n",
       "2  720575940627737365  720575940628914436     AL_L         32     ACH\n",
       "3  720575940633587552  720575940626452879    SMP_R         15     ACH\n",
       "4  720575940616871878  720575940621203973   AVLP_L         13    GABA"
      ]
     },
     "execution_count": 3,
     "metadata": {},
     "output_type": "execute_result"
    }
   ],
   "source": [
    "fw_edges = pd.read_feather(\"https://raw.githubusercontent.com/aschampion/2024-neurodowo-workshop/main/data/syn_proof_analysis_filtered_783.feather\")\n",
    "fw_edges.head()"
   ]
  },
  {
   "cell_type": "markdown",
   "metadata": {},
   "source": [
    "| Python Basics                                                                                                                                                                                                                                                                                                                                                                                                                                 |\n",
    "| :-------------------------------------------------------------------------------------------------------------------------------------------------------------------------------------------------------------------------------------------------------------------------------------------------------------------------------------------------------------------------------------------------------------------------------------------- |\n",
    "| `pandas` is a popular Python library for working with _tabular data_, data having rows representing instances sharing similar attributes in the columns. In `pandas` these tables are called DataFrames. `fw_edges` is a DataFrame we've loaded from a file. `fw_edges.head()` selects only the first few rows of that DataFrame for inspection. Row identifiers (here just 0..4) are shown on the left, columns along the top in the header. |\n",
    "\n",
    "&nbsp;\n",
    "\n",
    "| Computational Science Basics                                                                                                                                                                              |\n",
    "| :-------------------------------------------------------------------------------------------------------------------------------------------------------------------------------------------------------- |\n",
    "| `feather` files are tabular data in the Apache Arrow format, a standardized format with advantages over `csv` and similar text-based formats in terms of size and performance scalability for large data. |\n"
   ]
  },
  {
   "cell_type": "markdown",
   "metadata": {},
   "source": [
    "We're looking at the first few entries of the inter-neuronal synaptic edge list. Neurons in FlyWire and other datasets based on the same platform (which you might hear referred to as \"PyChunkedGraph\" or \"CAVE\") are identified by a `root_id`. Here, we have an entry for each presynaptic (`pre_root_id`) and postsynaptic (`post_root_id`) pair of neurons connected by chemical synapses. `syn_count` tells us how many postsynaptic sites detected in the dataset link those two neurons.\n"
   ]
  },
  {
   "cell_type": "markdown",
   "metadata": {},
   "source": [
    "How many synaptic partners are there?\n"
   ]
  },
  {
   "cell_type": "code",
   "execution_count": 4,
   "metadata": {},
   "outputs": [
    {
     "data": {
      "text/plain": [
       "3869878"
      ]
     },
     "execution_count": 4,
     "metadata": {},
     "output_type": "execute_result"
    }
   ],
   "source": [
    "len(fw_edges)"
   ]
  },
  {
   "cell_type": "markdown",
   "metadata": {},
   "source": [
    "If you have dyslexia or nystagmus or are like me that may just look like \"a lot\". We'll use a small utility for displaying some similar large numbers from time-to-time.\n"
   ]
  },
  {
   "cell_type": "code",
   "execution_count": 5,
   "metadata": {},
   "outputs": [
    {
     "data": {
      "text/plain": [
       "'3.9 million'"
      ]
     },
     "execution_count": 5,
     "metadata": {},
     "output_type": "execute_result"
    }
   ],
   "source": [
    "import humanize\n",
    "\n",
    "humanize.intword(len(fw_edges))"
   ]
  },
  {
   "cell_type": "markdown",
   "metadata": {},
   "source": [
    "And how many total synapses?\n"
   ]
  },
  {
   "cell_type": "code",
   "execution_count": 6,
   "metadata": {},
   "outputs": [
    {
     "data": {
      "text/plain": [
       "'34.2 million'"
      ]
     },
     "execution_count": 6,
     "metadata": {},
     "output_type": "execute_result"
    }
   ],
   "source": [
    "humanize.intword(fw_edges.syn_count.sum())"
   ]
  },
  {
   "cell_type": "markdown",
   "metadata": {},
   "source": [
    "| Python Basics                                                                                                                                                                                                                                                                                                                                     |\n",
    "| :------------------------------------------------------------------------------------------------------------------------------------------------------------------------------------------------------------------------------------------------------------------------------------------------------------------------------------------------ |\n",
    "| Because `syn_count` is a column in the `fw_edges` DataFrame, we can access it to perform operations just on the values in that column with `fw_edges.syn_count`. You could also access the column with `fw_edges[\"syn_count\"]` or `fw_edges.loc[:, \"syn_count\"]`. When you access a single column of a DataFrame like this, it's called a Series. |\n"
   ]
  },
  {
   "cell_type": "markdown",
   "metadata": {},
   "source": [
    "How are synaptic counts distributed across these edges?\n"
   ]
  },
  {
   "cell_type": "code",
   "execution_count": 7,
   "metadata": {},
   "outputs": [
    {
     "data": {
      "text/plain": [
       "<Axes: ylabel='Count'>"
      ]
     },
     "execution_count": 7,
     "metadata": {},
     "output_type": "execute_result"
    },
    {
     "data": {
      "image/png": "[encoded data removed]",
      "text/plain": [
       "<Figure size 640x480 with 1 Axes>"
      ]
     },
     "metadata": {},
     "output_type": "display_data"
    }
   ],
   "source": [
    "sns.histplot(data=fw_edges.syn_count.values, element=\"step\", log_scale=True)"
   ]
  },
  {
   "cell_type": "markdown",
   "metadata": {},
   "source": [
    "What is the distribution of output synapses?\n"
   ]
  },
  {
   "cell_type": "code",
   "execution_count": 8,
   "metadata": {},
   "outputs": [
    {
     "data": {
      "text/plain": [
       "<Axes: xlabel='syn_count', ylabel='Count'>"
      ]
     },
     "execution_count": 8,
     "metadata": {},
     "output_type": "execute_result"
    },
    {
     "data": {
      "image/png": "[encoded data removed]",
      "text/plain": [
       "<Figure size 640x480 with 1 Axes>"
      ]
     },
     "metadata": {},
     "output_type": "display_data"
    }
   ],
   "source": [
    "outputs_per_neuron = fw_edges.groupby(\"pre_root_id\").syn_count.agg(\"sum\")\n",
    "sns.histplot(\n",
    "    data=outputs_per_neuron,\n",
    "    element=\"step\",\n",
    "    log_scale=True,\n",
    ")"
   ]
  },
  {
   "cell_type": "markdown",
   "metadata": {},
   "source": [
    "What is the distribution of input synapses?\n"
   ]
  },
  {
   "cell_type": "code",
   "execution_count": 9,
   "metadata": {},
   "outputs": [
    {
     "data": {
      "text/plain": [
       "<Axes: xlabel='syn_count', ylabel='Count'>"
      ]
     },
     "execution_count": 9,
     "metadata": {},
     "output_type": "execute_result"
    },
    {
     "data": {
      "image/png": "[encoded data removed]",
      "text/plain": [
       "<Figure size 640x480 with 1 Axes>"
      ]
     },
     "metadata": {},
     "output_type": "display_data"
    }
   ],
   "source": [
    "inputs_per_neuron = fw_edges.groupby(\"post_root_id\").syn_count.agg(\"sum\")\n",
    "sns.histplot(\n",
    "    data=inputs_per_neuron,\n",
    "    element=\"step\",\n",
    "    log_scale=True,\n",
    ")"
   ]
  },
  {
   "cell_type": "markdown",
   "metadata": {},
   "source": [
    "This looks similar to the output distribution. But that doesn't necessarily imply they're correlated. Can we look at these jointly?\n"
   ]
  },
  {
   "cell_type": "code",
   "execution_count": 10,
   "metadata": {},
   "outputs": [
    {
     "data": {
      "text/html": [
       "<div>\n",
       "<style scoped>\n",
       "    .dataframe tbody tr th:only-of-type {\n",
       "        vertical-align: middle;\n",
       "    }\n",
       "\n",
       "    .dataframe tbody tr th {\n",
       "        vertical-align: top;\n",
       "    }\n",
       "\n",
       "    .dataframe thead th {\n",
       "        text-align: right;\n",
       "    }\n",
       "</style>\n",
       "<table border=\"1\" class=\"dataframe\">\n",
       "  <thead>\n",
       "    <tr style=\"text-align: right;\">\n",
       "      <th></th>\n",
       "      <th>syn_count_inputs</th>\n",
       "      <th>syn_count_outputs</th>\n",
       "    </tr>\n",
       "  </thead>\n",
       "  <tbody>\n",
       "    <tr>\n",
       "      <th>720575940596125868</th>\n",
       "      <td>99</td>\n",
       "      <td>98</td>\n",
       "    </tr>\n",
       "    <tr>\n",
       "      <th>720575940597856265</th>\n",
       "      <td>185</td>\n",
       "      <td>401</td>\n",
       "    </tr>\n",
       "    <tr>\n",
       "      <th>720575940597944841</th>\n",
       "      <td>106</td>\n",
       "      <td>102</td>\n",
       "    </tr>\n",
       "    <tr>\n",
       "      <th>720575940598267657</th>\n",
       "      <td>400</td>\n",
       "      <td>110</td>\n",
       "    </tr>\n",
       "    <tr>\n",
       "      <th>720575940599333574</th>\n",
       "      <td>278</td>\n",
       "      <td>641</td>\n",
       "    </tr>\n",
       "  </tbody>\n",
       "</table>\n",
       "</div>"
      ],
      "text/plain": [
       "                    syn_count_inputs  syn_count_outputs\n",
       "720575940596125868                99                 98\n",
       "720575940597856265               185                401\n",
       "720575940597944841               106                102\n",
       "720575940598267657               400                110\n",
       "720575940599333574               278                641"
      ]
     },
     "execution_count": 10,
     "metadata": {},
     "output_type": "execute_result"
    }
   ],
   "source": [
    "per_neuron_counts = pd.merge(\n",
    "    inputs_per_neuron,\n",
    "    outputs_per_neuron,\n",
    "    left_index=True,\n",
    "    right_index=True,\n",
    "    suffixes=[\"_inputs\", \"_outputs\"],\n",
    ")\n",
    "per_neuron_counts.head()\n"
   ]
  },
  {
   "cell_type": "markdown",
   "metadata": {},
   "source": [
    "Because we're only merging where we have both inputs and outputs for a neuron (`pd.merge(how=\"inner\")`), we are not including cases with no output or input (_sinks_ and _sources_, respectively, in graph nomenclature). This is fine for what we want to plot.\n"
   ]
  },
  {
   "cell_type": "code",
   "execution_count": 11,
   "metadata": {},
   "outputs": [
    {
     "data": {
      "text/plain": [
       "<seaborn.axisgrid.JointGrid at 0x13352d4d0>"
      ]
     },
     "execution_count": 11,
     "metadata": {},
     "output_type": "execute_result"
    },
    {
     "data": {
      "image/png": "[encoded data removed]",
      "text/plain": [
       "<Figure size 600x600 with 3 Axes>"
      ]
     },
     "metadata": {},
     "output_type": "display_data"
    }
   ],
   "source": [
    "sns.jointplot(\n",
    "    data=per_neuron_counts,\n",
    "    x=\"syn_count_inputs\",\n",
    "    y=\"syn_count_outputs\",\n",
    "    kind=\"hist\",\n",
    "    log_scale=True,\n",
    ")\n"
   ]
  },
  {
   "cell_type": "markdown",
   "metadata": {},
   "source": [
    "### Neuron Annotations\n"
   ]
  },
  {
   "cell_type": "code",
   "execution_count": 12,
   "metadata": {},
   "outputs": [
    {
     "name": "stderr",
     "output_type": "stream",
     "text": [
      "/var/folders/rf/8cfvv8zn689czv361jw9prvd1s1jvg/T/ipykernel_52550/3097101157.py:5: DtypeWarning: Columns (14,15,16,17,23) have mixed types. Specify dtype option on import or set low_memory=False.\n",
      "  fw_annot = pd.read_csv(\n"
     ]
    },
    {
     "data": {
      "text/html": [
       "<div>\n",
       "<style scoped>\n",
       "    .dataframe tbody tr th:only-of-type {\n",
       "        vertical-align: middle;\n",
       "    }\n",
       "\n",
       "    .dataframe tbody tr th {\n",
       "        vertical-align: top;\n",
       "    }\n",
       "\n",
       "    .dataframe thead th {\n",
       "        text-align: right;\n",
       "    }\n",
       "</style>\n",
       "<table border=\"1\" class=\"dataframe\">\n",
       "  <thead>\n",
       "    <tr style=\"text-align: right;\">\n",
       "      <th></th>\n",
       "      <th>supervoxel_id</th>\n",
       "      <th>pos_x</th>\n",
       "      <th>pos_y</th>\n",
       "      <th>pos_z</th>\n",
       "      <th>soma_x</th>\n",
       "      <th>soma_y</th>\n",
       "      <th>soma_z</th>\n",
       "      <th>nucleus_id</th>\n",
       "      <th>flow</th>\n",
       "      <th>super_class</th>\n",
       "      <th>...</th>\n",
       "      <th>morphology_group</th>\n",
       "      <th>top_nt</th>\n",
       "      <th>top_nt_conf</th>\n",
       "      <th>known_nt</th>\n",
       "      <th>known_nt_source</th>\n",
       "      <th>side</th>\n",
       "      <th>nerve</th>\n",
       "      <th>vfb_id</th>\n",
       "      <th>fbbt_id</th>\n",
       "      <th>status</th>\n",
       "    </tr>\n",
       "    <tr>\n",
       "      <th>root_id</th>\n",
       "      <th></th>\n",
       "      <th></th>\n",
       "      <th></th>\n",
       "      <th></th>\n",
       "      <th></th>\n",
       "      <th></th>\n",
       "      <th></th>\n",
       "      <th></th>\n",
       "      <th></th>\n",
       "      <th></th>\n",
       "      <th></th>\n",
       "      <th></th>\n",
       "      <th></th>\n",
       "      <th></th>\n",
       "      <th></th>\n",
       "      <th></th>\n",
       "      <th></th>\n",
       "      <th></th>\n",
       "      <th></th>\n",
       "      <th></th>\n",
       "      <th></th>\n",
       "    </tr>\n",
       "  </thead>\n",
       "  <tbody>\n",
       "    <tr>\n",
       "      <th>720575940628857210</th>\n",
       "      <td>78112261444987077</td>\n",
       "      <td>109306</td>\n",
       "      <td>50491</td>\n",
       "      <td>3960</td>\n",
       "      <td>104904.0</td>\n",
       "      <td>47464.0</td>\n",
       "      <td>5461.0</td>\n",
       "      <td>2453924.0</td>\n",
       "      <td>intrinsic</td>\n",
       "      <td>central</td>\n",
       "      <td>...</td>\n",
       "      <td>NaN</td>\n",
       "      <td>acetylcholine</td>\n",
       "      <td>0.917977</td>\n",
       "      <td>NaN</td>\n",
       "      <td>NaN</td>\n",
       "      <td>left</td>\n",
       "      <td>NaN</td>\n",
       "      <td>fw138205</td>\n",
       "      <td>FBbt_20001935</td>\n",
       "      <td>NaN</td>\n",
       "    </tr>\n",
       "    <tr>\n",
       "      <th>720575940626838909</th>\n",
       "      <td>82475466912542440</td>\n",
       "      <td>172029</td>\n",
       "      <td>55635</td>\n",
       "      <td>1592</td>\n",
       "      <td>177472.0</td>\n",
       "      <td>56936.0</td>\n",
       "      <td>1429.0</td>\n",
       "      <td>7393349.0</td>\n",
       "      <td>intrinsic</td>\n",
       "      <td>central</td>\n",
       "      <td>...</td>\n",
       "      <td>VLPl2_medial__0</td>\n",
       "      <td>acetylcholine</td>\n",
       "      <td>0.645442</td>\n",
       "      <td>NaN</td>\n",
       "      <td>NaN</td>\n",
       "      <td>right</td>\n",
       "      <td>NaN</td>\n",
       "      <td>fw000001</td>\n",
       "      <td>NaN</td>\n",
       "      <td>NaN</td>\n",
       "    </tr>\n",
       "    <tr>\n",
       "      <th>720575940626046919</th>\n",
       "      <td>83038623024880664</td>\n",
       "      <td>180632</td>\n",
       "      <td>58664</td>\n",
       "      <td>1925</td>\n",
       "      <td>180632.0</td>\n",
       "      <td>58664.0</td>\n",
       "      <td>1925.0</td>\n",
       "      <td>7415038.0</td>\n",
       "      <td>intrinsic</td>\n",
       "      <td>central</td>\n",
       "      <td>...</td>\n",
       "      <td>NaN</td>\n",
       "      <td>acetylcholine</td>\n",
       "      <td>0.844781</td>\n",
       "      <td>NaN</td>\n",
       "      <td>NaN</td>\n",
       "      <td>right</td>\n",
       "      <td>NaN</td>\n",
       "      <td>fw000002</td>\n",
       "      <td>FBbt_20000538</td>\n",
       "      <td>NaN</td>\n",
       "    </tr>\n",
       "    <tr>\n",
       "      <th>720575940630311383</th>\n",
       "      <td>79801523353604463</td>\n",
       "      <td>133800</td>\n",
       "      <td>56063</td>\n",
       "      <td>1847</td>\n",
       "      <td>180728.0</td>\n",
       "      <td>61008.0</td>\n",
       "      <td>1630.0</td>\n",
       "      <td>7415013.0</td>\n",
       "      <td>intrinsic</td>\n",
       "      <td>central</td>\n",
       "      <td>...</td>\n",
       "      <td>NaN</td>\n",
       "      <td>acetylcholine</td>\n",
       "      <td>0.760387</td>\n",
       "      <td>NaN</td>\n",
       "      <td>NaN</td>\n",
       "      <td>right</td>\n",
       "      <td>NaN</td>\n",
       "      <td>fw000003</td>\n",
       "      <td>FBbt_20000260</td>\n",
       "      <td>NaN</td>\n",
       "    </tr>\n",
       "    <tr>\n",
       "      <th>720575940633370649</th>\n",
       "      <td>83038554439606237</td>\n",
       "      <td>180496</td>\n",
       "      <td>57448</td>\n",
       "      <td>2989</td>\n",
       "      <td>180496.0</td>\n",
       "      <td>57448.0</td>\n",
       "      <td>2989.0</td>\n",
       "      <td>7415848.0</td>\n",
       "      <td>intrinsic</td>\n",
       "      <td>visual_projection</td>\n",
       "      <td>...</td>\n",
       "      <td>NaN</td>\n",
       "      <td>acetylcholine</td>\n",
       "      <td>0.895458</td>\n",
       "      <td>NaN</td>\n",
       "      <td>NaN</td>\n",
       "      <td>right</td>\n",
       "      <td>NaN</td>\n",
       "      <td>fw000004</td>\n",
       "      <td>FBbt_00051248</td>\n",
       "      <td>NaN</td>\n",
       "    </tr>\n",
       "  </tbody>\n",
       "</table>\n",
       "<p>5 rows × 26 columns</p>\n",
       "</div>"
      ],
      "text/plain": [
       "                        supervoxel_id   pos_x  pos_y  pos_z    soma_x  \\\n",
       "root_id                                                                 \n",
       "720575940628857210  78112261444987077  109306  50491   3960  104904.0   \n",
       "720575940626838909  82475466912542440  172029  55635   1592  177472.0   \n",
       "720575940626046919  83038623024880664  180632  58664   1925  180632.0   \n",
       "720575940630311383  79801523353604463  133800  56063   1847  180728.0   \n",
       "720575940633370649  83038554439606237  180496  57448   2989  180496.0   \n",
       "\n",
       "                     soma_y  soma_z  nucleus_id       flow        super_class  \\\n",
       "root_id                                                                         \n",
       "720575940628857210  47464.0  5461.0   2453924.0  intrinsic            central   \n",
       "720575940626838909  56936.0  1429.0   7393349.0  intrinsic            central   \n",
       "720575940626046919  58664.0  1925.0   7415038.0  intrinsic            central   \n",
       "720575940630311383  61008.0  1630.0   7415013.0  intrinsic            central   \n",
       "720575940633370649  57448.0  2989.0   7415848.0  intrinsic  visual_projection   \n",
       "\n",
       "                    ... morphology_group         top_nt top_nt_conf known_nt  \\\n",
       "root_id             ...                                                        \n",
       "720575940628857210  ...              NaN  acetylcholine    0.917977      NaN   \n",
       "720575940626838909  ...  VLPl2_medial__0  acetylcholine    0.645442      NaN   \n",
       "720575940626046919  ...              NaN  acetylcholine    0.844781      NaN   \n",
       "720575940630311383  ...              NaN  acetylcholine    0.760387      NaN   \n",
       "720575940633370649  ...              NaN  acetylcholine    0.895458      NaN   \n",
       "\n",
       "                   known_nt_source   side nerve    vfb_id        fbbt_id  \\\n",
       "root_id                                                                    \n",
       "720575940628857210             NaN   left   NaN  fw138205  FBbt_20001935   \n",
       "720575940626838909             NaN  right   NaN  fw000001            NaN   \n",
       "720575940626046919             NaN  right   NaN  fw000002  FBbt_20000538   \n",
       "720575940630311383             NaN  right   NaN  fw000003  FBbt_20000260   \n",
       "720575940633370649             NaN  right   NaN  fw000004  FBbt_00051248   \n",
       "\n",
       "                   status  \n",
       "root_id                    \n",
       "720575940628857210    NaN  \n",
       "720575940626838909    NaN  \n",
       "720575940626046919    NaN  \n",
       "720575940630311383    NaN  \n",
       "720575940633370649    NaN  \n",
       "\n",
       "[5 rows x 26 columns]"
      ]
     },
     "execution_count": 12,
     "metadata": {},
     "output_type": "execute_result"
    }
   ],
   "source": [
    "# from fafbseg import flywire\n",
    "# flywire.set_default_dataset(\"public\")\n",
    "# fw_annot = flywire.search_annotations(None)\n",
    "\n",
    "fw_annot = pd.read_csv(\n",
    "    \"https://raw.githubusercontent.com/flyconnectome/flywire_annotations/main/supplemental_files/Supplemental_file1_neuron_annotations.tsv\", sep=\"\\t\"\n",
    ").set_index(\"root_id\")\n",
    "# We have to do some magical cleanup to make later things easy. Don't worry about this.\n",
    "fw_annot = fw_annot[~fw_annot.index.duplicated()]\n",
    "fw_annot.head()"
   ]
  },
  {
   "cell_type": "markdown",
   "metadata": {},
   "source": [
    "We again identify neurons by `root_id` and see that we have many attributes for each - too many to display by default. Let's get a list.\n"
   ]
  },
  {
   "cell_type": "code",
   "execution_count": 13,
   "metadata": {},
   "outputs": [
    {
     "data": {
      "text/plain": [
       "Index(['supervoxel_id', 'pos_x', 'pos_y', 'pos_z', 'soma_x', 'soma_y',\n",
       "       'soma_z', 'nucleus_id', 'flow', 'super_class', 'cell_class',\n",
       "       'cell_sub_class', 'cell_type', 'hemibrain_type', 'ito_lee_hemilineage',\n",
       "       'hartenstein_hemilineage', 'morphology_group', 'top_nt', 'top_nt_conf',\n",
       "       'known_nt', 'known_nt_source', 'side', 'nerve', 'vfb_id', 'fbbt_id',\n",
       "       'status'],\n",
       "      dtype='object')"
      ]
     },
     "execution_count": 13,
     "metadata": {},
     "output_type": "execute_result"
    }
   ],
   "source": [
    "fw_annot.columns"
   ]
  },
  {
   "cell_type": "markdown",
   "metadata": {},
   "source": [
    "`hemibrain_type` seems like a useful description. These are the neuronal type names from the earlier \"hemibrain\" partial connectome, mapped onto the FlyWire brain. Let's look at that annotation applied to one of our synaptic edges:\n"
   ]
  },
  {
   "cell_type": "code",
   "execution_count": 14,
   "metadata": {},
   "outputs": [
    {
     "data": {
      "text/plain": [
       "root_id\n",
       "720575940622864920    KCa'b'-m\n",
       "720575940620464321      MBON04\n",
       "Name: hemibrain_type, dtype: object"
      ]
     },
     "execution_count": 14,
     "metadata": {},
     "output_type": "execute_result"
    }
   ],
   "source": [
    "# Choose an arbitrary edge.\n",
    "# I've intentionally pre-selected one to be between neurons with some annotations.\n",
    "edge_of_interest = fw_edges.iloc[12007]\n",
    "root_ids_in_edge_of_interest = edge_of_interest.loc[\n",
    "    [\"pre_root_id\", \"post_root_id\"]\n",
    "]\n",
    "neuron_annotations_for_edge = fw_annot.loc[root_ids_in_edge_of_interest]\n",
    "neuron_annotations_for_edge.hemibrain_type"
   ]
  },
  {
   "cell_type": "markdown",
   "metadata": {},
   "source": [
    "| Python Basics                                                                                                                                                                                                                                                                                                                                                     |\n",
    "| :---------------------------------------------------------------------------------------------------------------------------------------------------------------------------------------------------------------------------------------------------------------------------------------------------------------------------------------------------------------- |\n",
    "| `pandas` provides many different ways to index into a DataFrame. `.iloc` selects rows (or columns) based on their sequential order in the table, similar to how you index a `list` or `ndarray` with `[]`. `.loc` indexes based on the values of each row's `index` column(s), sort of the name or identifier for that row. In our case, the index is `root_id`s. |\n"
   ]
  },
  {
   "cell_type": "markdown",
   "metadata": {},
   "source": [
    "We can make it easier and more elegant to inspect these annotations later, but for now we've at least seen that we can stitch things together.\n"
   ]
  },
  {
   "cell_type": "markdown",
   "metadata": {},
   "source": [
    "Before we move on, let's construct an annotation we can use as a basic label for future inspection.\n",
    "\n",
    "`hemibrain_type` seemed ok at first glance, but the hemibrain isn't a full brain. Is it missing for lots of neurons?\n"
   ]
  },
  {
   "cell_type": "code",
   "execution_count": 15,
   "metadata": {},
   "outputs": [
    {
     "data": {
      "text/plain": [
       "109491"
      ]
     },
     "execution_count": 15,
     "metadata": {},
     "output_type": "execute_result"
    }
   ],
   "source": [
    "fw_annot.hemibrain_type.isna().sum()"
   ]
  },
  {
   "cell_type": "markdown",
   "metadata": {},
   "source": [
    "| Python Basics                                                                                                                                                                                                                              |\n",
    "| :----------------------------------------------------------------------------------------------------------------------------------------------------------------------------------------------------------------------------------------- |\n",
    "| Many data types and libraries have various types indicating invalid, missing, or unrepresentable values, such as `NaN`, `NA`, or `None`. `pandas` has various methods for working with common cases of these, such as `isna` and `fillna`. |\n"
   ]
  },
  {
   "cell_type": "markdown",
   "metadata": {},
   "source": [
    "Besides not existing for many neurons, `hemibrain_type` also reflects a typing process that wasn't comprehensive for the full brain or consistent with some literature. Schlegel, et al. have their own extension and correcion to this type in the `cell_type` column. However, it's only present when it differs from `hemibrain_type` (which it strove to match when reasonable):\n"
   ]
  },
  {
   "cell_type": "code",
   "execution_count": 16,
   "metadata": {},
   "outputs": [
    {
     "data": {
      "text/plain": [
       "28165"
      ]
     },
     "execution_count": 16,
     "metadata": {},
     "output_type": "execute_result"
    }
   ],
   "source": [
    "fw_annot.cell_type.isna().sum()"
   ]
  },
  {
   "cell_type": "markdown",
   "metadata": {},
   "source": [
    "Let's combine these and see how much better we do:\n"
   ]
  },
  {
   "cell_type": "code",
   "execution_count": 17,
   "metadata": {},
   "outputs": [
    {
     "data": {
      "text/plain": [
       "7444"
      ]
     },
     "execution_count": 17,
     "metadata": {},
     "output_type": "execute_result"
    }
   ],
   "source": [
    "fw_annot[\"merged_type\"] = fw_annot.cell_type.fillna(fw_annot.hemibrain_type)\n",
    "fw_annot.merged_type.isna().sum()"
   ]
  },
  {
   "cell_type": "markdown",
   "metadata": {},
   "source": [
    "This is good enough for now, but of course what circuits, systems, and question you're interested in will determine what annotations are relevant.\n"
   ]
  },
  {
   "cell_type": "markdown",
   "metadata": {},
   "source": [
    "We've seen already there are about 53 million synapses linking 14 million unique pairs of neuronal partners. How many neurons total are those drawn from?\n"
   ]
  },
  {
   "cell_type": "code",
   "execution_count": 18,
   "metadata": {},
   "outputs": [
    {
     "data": {
      "text/plain": [
       "'139,255'"
      ]
     },
     "execution_count": 18,
     "metadata": {},
     "output_type": "execute_result"
    }
   ],
   "source": [
    "n_neurons = len(fw_annot)\n",
    "humanize.intcomma(n_neurons)"
   ]
  },
  {
   "cell_type": "markdown",
   "metadata": {},
   "source": [
    "As an aside: evenly distributed between hemispheres?\n"
   ]
  },
  {
   "cell_type": "code",
   "execution_count": 19,
   "metadata": {},
   "outputs": [
    {
     "data": {
      "text/plain": [
       "side\n",
       "left      69959\n",
       "right     69093\n",
       "center      173\n",
       "na           28\n",
       "Name: count, dtype: int64"
      ]
     },
     "execution_count": 19,
     "metadata": {},
     "output_type": "execute_result"
    }
   ],
   "source": [
    "fw_annot.side.value_counts()"
   ]
  },
  {
   "cell_type": "markdown",
   "metadata": {},
   "source": [
    "| Python Basics                                                                                                       |\n",
    "| :------------------------------------------------------------------------------------------------------------------ |\n",
    "| Because `fw_annot.side` is a Series, pandas provides many useful basic statistics, like `value_counts`, as methods. |\n"
   ]
  },
  {
   "cell_type": "markdown",
   "metadata": {},
   "source": [
    "A little lopsided.\n",
    "\n",
    "Back to the point, 14 million edges seems large, but how many potential pairs (including autapses) actually have a synaptic edge?\n"
   ]
  },
  {
   "cell_type": "code",
   "execution_count": 20,
   "metadata": {},
   "outputs": [
    {
     "data": {
      "text/plain": [
       "0.00019956100326196997"
      ]
     },
     "execution_count": 20,
     "metadata": {},
     "output_type": "execute_result"
    }
   ],
   "source": [
    "len(fw_edges) / (n_neurons * n_neurons)"
   ]
  },
  {
   "cell_type": "markdown",
   "metadata": {},
   "source": [
    "Less than 0.1%.\n"
   ]
  },
  {
   "cell_type": "markdown",
   "metadata": {},
   "source": [
    "Are any annotated neurons not represented in the synaptic edge list?\n"
   ]
  },
  {
   "cell_type": "code",
   "execution_count": 21,
   "metadata": {},
   "outputs": [
    {
     "data": {
      "text/plain": [
       "5074"
      ]
     },
     "execution_count": 21,
     "metadata": {},
     "output_type": "execute_result"
    }
   ],
   "source": [
    "(\n",
    "    (~fw_annot.index.isin(fw_edges.pre_root_id))\n",
    "    & (~fw_annot.index.isin(fw_edges.post_root_id))\n",
    ").sum()"
   ]
  },
  {
   "cell_type": "markdown",
   "metadata": {},
   "source": [
    "This goes beyond a normal **Python Basics** footnote.\n",
    "\n",
    "Here we're using several boolean logic and `pandas` features to answer this question:\n",
    "\n",
    "- Because we want to look at the `root_id`s indexing each row in `fw_annot`, we access `fw_annot.index`\n",
    "- Because we want to compare all the values in that index with what values we see in the edge list, we use `isin` which returns a list of boolean values (`True` or `False`), one for each `root_id` in `fw_annot`\n",
    "- Because we want to know which values are **not in** in the edge list, we negate these boolean values with `~`\n",
    "- Because we need to check both the presynaptic and postsynaptic side of the edge list, we do this for each, and then combine them with a boolean operation (`&`)\n",
    "- Because we only care how many neurons are missing, we can just `sum` the boolean list at the end. `True`s get converted to 1 and `False` to zero.\n"
   ]
  },
  {
   "cell_type": "markdown",
   "metadata": {},
   "source": [
    "These neurons are synaptically _disconnected_, something we may need to be mindful of going forward.\n"
   ]
  },
  {
   "cell_type": "markdown",
   "metadata": {},
   "source": [
    "### Building an Adjacency Matrix\n",
    "\n",
    "We already have the synaptic connectome as an _edge list_. Edge lists represent graphs as pairs of _vertices_ (also called _nodes_, though this terminology is more common when referring to graphs as networks). In our case, because chemical synaptic edges are _directed_ -- synapses release transmitters from a presynaptic zone to a postsynaptic partner -- this list represents a _directed graph_. Connectomics is sometimes also concerned with undirected graphs, such as of neurons who neurites abut or approach each other (e.g., for evaluating [Peters' rule](http://www.scholarpedia.org/article/Computational_neuroanatomy#Potential_synaptic_connectivity_between_individual_cells) or considering other molecular mechanisms). Our synaptic edges also have a value associated with them, `syn_count`. Because this is a scalar value, we can consider it a _weight_ on that edge.\n",
    "\n",
    "Often it is useful instead to represent or at least conceptualize our graph as an _adjacency matrix_, a matrix having a row and column for each vertex, which the entry at position `A[i,j]` representing the edge weight from vertex `i` to vertex `j`. For example, we might have a synaptic edge list for 3 neurons `A`, `B`, `C`:\n",
    "\n",
    "| pre | post | syn_count |\n",
    "| :-- | ---- | --------- |\n",
    "| A   | B    | 5         |\n",
    "| A   | C    | 3         |\n",
    "| B   | C    | 2         |\n",
    "| C   | A    | 1         |\n",
    "\n",
    "The graph can equivalently be represented as an adjacency matrix:\n",
    "\n",
    "|     | A   | B   | C   |\n",
    "| --- | --- | --- | --- |\n",
    "| A   | 0   | 5   | 3   |\n",
    "| B   | 0   | 0   | 2   |\n",
    "| C   | 1   | 0   | 0   |\n"
   ]
  },
  {
   "cell_type": "markdown",
   "metadata": {},
   "source": [
    "So what's stopping us? We have an edge list, we'd like an adjacency matrix, let's get started! First let's just create a zeroed out array and...\n",
    "\n",
    "```python\n",
    "easy_peasy = np.zeros((n_neurons, n_neurons))\n",
    "```\n",
    "\n",
    "Strange. Why isn't that in a code cell? Let's just check one tiny detail:\n"
   ]
  },
  {
   "cell_type": "code",
   "execution_count": 22,
   "metadata": {},
   "outputs": [
    {
     "data": {
      "text/plain": [
       "'77.6 GB'"
      ]
     },
     "execution_count": 22,
     "metadata": {},
     "output_type": "execute_result"
    }
   ],
   "source": [
    "humanize.naturalsize(n_neurons * n_neurons * 4)\n",
    "# 4 is the minimum number of bytes per edge you're likely to use during analysis."
   ]
  },
  {
   "cell_type": "markdown",
   "metadata": {},
   "source": [
    "You likely don't have that much memory in your laptop or whatever free Jupyterlab cloud you're running this in. There are still contexts where you may need a dense adjacency matrix, and at least for the fly you can generate it on an adequate workstation or server, but for now let's try to do better.\n",
    "\n",
    "As we saw earlier, the fly brain connectome is sparse, with less than 0.1% of potential edges existing. Edge lists are an efficient structure for naively representing sparse graphs. Efficient, non-naive structures also exist for representing sparse arrays and thus sparse adjacency matrices. Choosing and using the appropriate structure is non-trivial. For this graph, because we haven't sorted the neurons into any meaningful order we would expect to make parts of the matrix dense, we will use a simple format that's effectively an a compressed edge list.\n"
   ]
  },
  {
   "cell_type": "code",
   "execution_count": 23,
   "metadata": {},
   "outputs": [
    {
     "name": "stdout",
     "output_type": "stream",
     "text": [
      "          pre_root_id        post_root_id  syn_count\n",
      "0  720575940596125868  720575940608552405          5\n",
      "1  720575940596125868  720575940613059993          5\n",
      "2  720575940596125868  720575940616986553          5\n",
      "3  720575940596125868  720575940618079956          5\n",
      "4  720575940596125868  720575940620124326          8\n"
     ]
    }
   ],
   "source": [
    "import scipy.sparse\n",
    "\n",
    "fw_edges_only_anno = fw_edges.loc[\n",
    "    fw_edges.pre_root_id.isin(fw_annot.index)\n",
    "    & fw_edges.post_root_id.isin(fw_annot.index)\n",
    "]\n",
    "fw_edges_only_anno = fw_edges_only_anno.groupby([\"pre_root_id\", \"post_root_id\"]).syn_count.sum().reset_index()\n",
    "print(fw_edges_only_anno.head())\n",
    "pre_loc = fw_annot.index.get_indexer(fw_edges_only_anno.iloc[:, 0].to_numpy())\n",
    "post_loc = fw_annot.index.get_indexer(fw_edges_only_anno.iloc[:, 1].to_numpy())\n",
    "fw_adj_sp = scipy.sparse.coo_array(\n",
    "    (fw_edges_only_anno.iloc[:, 2].to_numpy(), np.stack([pre_loc, post_loc], axis=0))\n",
    ")"
   ]
  },
  {
   "cell_type": "code",
   "execution_count": 24,
   "metadata": {},
   "outputs": [
    {
     "data": {
      "text/plain": [
       "'2.7 MB'"
      ]
     },
     "execution_count": 24,
     "metadata": {},
     "output_type": "execute_result"
    }
   ],
   "source": [
    "humanize.naturalsize(fw_adj_sp.size)"
   ]
  },
  {
   "cell_type": "markdown",
   "metadata": {},
   "source": [
    "This can fit on your laptop. This can fit on your earbuds.\n",
    "\n",
    "Operations can be performed on these sparse matrices efficiently:\n"
   ]
  },
  {
   "cell_type": "code",
   "execution_count": 25,
   "metadata": {},
   "outputs": [
    {
     "data": {
      "text/plain": [
       "2700513"
      ]
     },
     "execution_count": 25,
     "metadata": {},
     "output_type": "execute_result"
    }
   ],
   "source": [
    "fw_adj_sp.count_nonzero()"
   ]
  },
  {
   "cell_type": "code",
   "execution_count": 26,
   "metadata": {},
   "outputs": [
    {
     "data": {
      "text/plain": [
       "34153566"
      ]
     },
     "execution_count": 26,
     "metadata": {},
     "output_type": "execute_result"
    }
   ],
   "source": [
    "fw_adj_sp.sum()"
   ]
  },
  {
   "cell_type": "markdown",
   "metadata": {},
   "source": [
    "However, care must be taken to avoid materializing the dense matrix. Generally we will be avoiding creating adjacency matrices for the whole graph in this tutorial, but it's important to be aware of this issue and know of avenues to get it when you need to.\n",
    "\n",
    "Note a slight descrepency in these values from the values of `len(fw_edges)` and `fw_edges.syn_count.sum()`, respectively, because some edges reference `root_id`s not in `fw_annot`, which we used to impose a dense index on `root_id` for the adjacency matrix. For example, here's a check to find out how many presynaptic roots in the edge list are not in the annotations:\n"
   ]
  },
  {
   "cell_type": "code",
   "execution_count": 27,
   "metadata": {},
   "outputs": [
    {
     "data": {
      "text/plain": [
       "0"
      ]
     },
     "execution_count": 27,
     "metadata": {},
     "output_type": "execute_result"
    }
   ],
   "source": [
    "fw_edges.loc[\n",
    "    ~fw_edges.pre_root_id.isin(fw_annot.index), \"pre_root_id\"\n",
    "].drop_duplicates().count()"
   ]
  },
  {
   "cell_type": "markdown",
   "metadata": {},
   "source": [
    "### Building a Graph\n",
    "\n",
    "With any representation of the brain graph, we can build a graph model. Really, our representations are already a graph, but these models provide convenient, uniform ways to do things like traversing the graph, measuring its properties, or applying algorithms to it.\n"
   ]
  },
  {
   "cell_type": "code",
   "execution_count": 28,
   "metadata": {},
   "outputs": [],
   "source": [
    "import igraph\n",
    "\n",
    "fw_graph = igraph.Graph.DataFrame(fw_edges, directed=True, use_vids=False)"
   ]
  },
  {
   "cell_type": "markdown",
   "metadata": {},
   "source": [
    "`igraph` is a library for graph analysis that's also available in different programming environments, including C and R. It's not the most intuitive to use or well-documented -- for that the `networkx` library is most common in Python -- but it sometimes performs better for large graphs and has several sophisticated algorithms already implemented we will make use of in future tutorials.\n"
   ]
  },
  {
   "cell_type": "code",
   "execution_count": 29,
   "metadata": {},
   "outputs": [
    {
     "data": {
      "text/plain": [
       "'IGRAPH DN-- 134181 3869878 -- \\n+ attr: name (v), neuropil (e), nt_type (e), syn_count (e)'"
      ]
     },
     "execution_count": 29,
     "metadata": {},
     "output_type": "execute_result"
    }
   ],
   "source": [
    "fw_graph.summary()"
   ]
  },
  {
   "cell_type": "markdown",
   "metadata": {},
   "source": [
    "This is telling us a few things about our graph:\n",
    "\n",
    "- It is directed (`D`)\n",
    "- It has an attribute called `name` for vertices that some functions may make special use of by default (`N`)\n",
    "- It has 127400 vertices\n",
    "- It has 14687178 edges\n",
    "- Vertices have one attribute: `name`\n",
    "- Edges have one attribute: `syn_count`\n"
   ]
  },
  {
   "cell_type": "markdown",
   "metadata": {},
   "source": [
    "We can select vertices and traverse from in our graph. For example, using one of the arbitrary neurons we looked at earlier, we can find its downstream partners (in directed graphs, these are \"outbound edges\" or \"successors\" for vertices at the other end of those):\n"
   ]
  },
  {
   "cell_type": "code",
   "execution_count": 31,
   "metadata": {},
   "outputs": [
    {
     "data": {
      "text/plain": [
       "446"
      ]
     },
     "execution_count": 31,
     "metadata": {},
     "output_type": "execute_result"
    }
   ],
   "source": [
    "voi = fw_graph.vs.find(name_eq=720575940620464321)\n",
    "voi_downstream = fw_graph.neighbors(voi, mode=\"out\")\n",
    "len(voi_downstream)"
   ]
  },
  {
   "cell_type": "markdown",
   "metadata": {},
   "source": [
    "We can as easily look at upstream partners:\n"
   ]
  },
  {
   "cell_type": "code",
   "execution_count": 32,
   "metadata": {},
   "outputs": [
    {
     "data": {
      "text/plain": [
       "955"
      ]
     },
     "execution_count": 32,
     "metadata": {},
     "output_type": "execute_result"
    }
   ],
   "source": [
    "voi_upstream = fw_graph.neighbors(voi, mode=\"in\")\n",
    "len(voi_upstream)"
   ]
  },
  {
   "cell_type": "markdown",
   "metadata": {},
   "source": [
    "Generally, these are called neighborhoods. Neighbors reached after traversing one edge are in the 1-neighborhood or \"first order neighborhood\" and so are 1-neighbors. But we can as easily ask about the neighborhood reached after traversing another synapse from those downstream partners:\n"
   ]
  },
  {
   "cell_type": "code",
   "execution_count": 33,
   "metadata": {},
   "outputs": [
    {
     "data": {
      "text/plain": [
       "11832"
      ]
     },
     "execution_count": 33,
     "metadata": {},
     "output_type": "execute_result"
    }
   ],
   "source": [
    "len(fw_graph.neighborhood(vertices=voi, order=2))"
   ]
  },
  {
   "cell_type": "markdown",
   "metadata": {},
   "source": [
    "In 2 synapses, we've reached nearly half the fly brain. In general it is the case for fly nervous systems that the shortest path between any two neurons is quite small. We'll examine ths more later.\n",
    "\n",
    "Returning to our vertex of interest and its downstream partners, how are synapses distributed among them, that is, how many presynaptic-to-postsynaptic sites does it share with each partner?\n"
   ]
  },
  {
   "cell_type": "code",
   "execution_count": 34,
   "metadata": {},
   "outputs": [
    {
     "data": {
      "text/plain": [
       "<Axes: ylabel='Count'>"
      ]
     },
     "execution_count": 34,
     "metadata": {},
     "output_type": "execute_result"
    },
    {
     "data": {
      "image/png": "[encoded data removed]",
      "text/plain": [
       "<Figure size 640x480 with 1 Axes>"
      ]
     },
     "metadata": {},
     "output_type": "display_data"
    }
   ],
   "source": [
    "voi_outgoing = fw_graph.es.select(_source=voi)\n",
    "sns.histplot(data=voi_outgoing[\"syn_count\"], log_scale=True)"
   ]
  },
  {
   "cell_type": "markdown",
   "metadata": {},
   "source": [
    "Earlier we saw there were some disconnected neurons. This means we expect the graph to be broken into several pieces that can't be reached from each other, _connected components_:\n"
   ]
  },
  {
   "cell_type": "code",
   "execution_count": 35,
   "metadata": {},
   "outputs": [
    {
     "data": {
      "text/plain": [
       "14337"
      ]
     },
     "execution_count": 35,
     "metadata": {},
     "output_type": "execute_result"
    }
   ],
   "source": [
    "len(fw_graph.connected_components())"
   ]
  },
  {
   "cell_type": "markdown",
   "metadata": {},
   "source": [
    "Is this just one giant brain component (_giant component_ is actual graph nomenclature) and a bunch of isolated, disconnected neurons we saw before, or are there small components in between?\n"
   ]
  },
  {
   "cell_type": "code",
   "execution_count": 36,
   "metadata": {},
   "outputs": [
    {
     "data": {
      "text/plain": [
       "Text(0, 0.5, 'number of components')"
      ]
     },
     "execution_count": 36,
     "metadata": {},
     "output_type": "execute_result"
    },
    {
     "data": {
      "image/png": "[encoded data removed]",
      "text/plain": [
       "<Figure size 640x480 with 1 Axes>"
      ]
     },
     "metadata": {},
     "output_type": "display_data"
    }
   ],
   "source": [
    "cc_sizes = [len(cc) for cc in fw_graph.connected_components()]\n",
    "ax = sns.histplot(cc_sizes)\n",
    "ax.set_yscale(\"log\")\n",
    "ax.set_xlabel(\"neurons in component\")\n",
    "ax.set_ylabel(\"number of components\")"
   ]
  },
  {
   "cell_type": "markdown",
   "metadata": {},
   "source": [
    "As we expected, just the giant brain component and some isolated vertices we don't need to worry about.\n"
   ]
  },
  {
   "cell_type": "markdown",
   "metadata": {},
   "source": [
    "### Example: finding shortest paths to DNs\n",
    "\n",
    "Let's start from our neuron/vertex of interest `voi` and find the shortest path from it to _each_ descending neuron (DN -- neurons that have a soma in the brain but extend their neurites down into the ventral nerve cord).\n",
    "\n",
    "First, how many DNs are there, and how do we find them? The annotations consider DNs as their own `cell_class`:\n"
   ]
  },
  {
   "cell_type": "code",
   "execution_count": 44,
   "metadata": {},
   "outputs": [
    {
     "data": {
      "text/plain": [
       "super_class\n",
       "optic                 77536\n",
       "central               32388\n",
       "sensory               16903\n",
       "visual_projection      8053\n",
       "ascending              2362\n",
       "descending             1303\n",
       "visual_centrifugal      524\n",
       "motor                   106\n",
       "endocrine                80\n",
       "Name: count, dtype: int64"
      ]
     },
     "execution_count": 44,
     "metadata": {},
     "output_type": "execute_result"
    }
   ],
   "source": [
    "fw_annot.super_class.value_counts()"
   ]
  },
  {
   "cell_type": "markdown",
   "metadata": {},
   "source": [
    "Fortunately the `super_class` annotation for DNs is simply `descending`. There are about 1300 of them.\n",
    "\n",
    "Now we need to select them all from the annotation DataFrame, then use their `root_id` to find them in the graph:\n"
   ]
  },
  {
   "cell_type": "code",
   "execution_count": 45,
   "metadata": {},
   "outputs": [],
   "source": [
    "dns = fw_annot.loc[fw_annot.super_class == \"descending\"]\n",
    "dns_vs = fw_graph.vs.select(name_in=dns.index)"
   ]
  },
  {
   "cell_type": "markdown",
   "metadata": {},
   "source": [
    "`dns_vs` is a sequence of igraph vertices. This is important, because as discussed earlier, vertices in the graph are _named_ with their `root_id`, but _indexed_ by numbers internal to the graph. This sequence of igraph vertices has those indices.\n"
   ]
  },
  {
   "cell_type": "markdown",
   "metadata": {},
   "source": [
    "Now we find the shortest path from our neuron to **each** DN.\n"
   ]
  },
  {
   "cell_type": "code",
   "execution_count": 46,
   "metadata": {},
   "outputs": [
    {
     "name": "stderr",
     "output_type": "stream",
     "text": [
      "/var/folders/rf/8cfvv8zn689czv361jw9prvd1s1jvg/T/ipykernel_52550/248154791.py:1: RuntimeWarning: Couldn't reach some vertices at src/paths/unweighted.c:444\n",
      "  dn_paths = fw_graph.get_shortest_paths(voi, to=dns_vs, output=\"epath\")\n"
     ]
    }
   ],
   "source": [
    "dn_paths = fw_graph.get_shortest_paths(voi, to=dns_vs, output=\"epath\")"
   ]
  },
  {
   "cell_type": "markdown",
   "metadata": {},
   "source": [
    "`output=\"epath\"` tells igraph that we want the found paths returned as a list of edges, rather than a list of vertices (`\"vpath\"`), because that makes it easier for us to look at just that path in whole graph later.\n"
   ]
  },
  {
   "cell_type": "markdown",
   "metadata": {},
   "source": [
    "How close is our neuron to all DNs?\n"
   ]
  },
  {
   "cell_type": "code",
   "execution_count": 47,
   "metadata": {},
   "outputs": [
    {
     "data": {
      "text/plain": [
       "<Axes: ylabel='Count'>"
      ]
     },
     "execution_count": 47,
     "metadata": {},
     "output_type": "execute_result"
    },
    {
     "data": {
      "image/png": "[encoded data removed]",
      "text/plain": [
       "<Figure size 640x480 with 1 Axes>"
      ]
     },
     "metadata": {},
     "output_type": "display_data"
    }
   ],
   "source": [
    "dn_path_lengths = [len(path) for path in dn_paths]\n",
    "sns.histplot(dn_path_lengths)"
   ]
  },
  {
   "cell_type": "markdown",
   "metadata": {},
   "source": [
    "Again we see that overall, path lengths in the fly connectome are short. Most DNs are 3 synapses away or less.\n"
   ]
  },
  {
   "cell_type": "markdown",
   "metadata": {},
   "source": [
    "Let's visualize a specific path. The whole connectome is too big to visualize meaningfully in the classic graph format, but we can pull out the path that we've found. Selecting a particular part of the graph like this, but still containing its vertices and edges, is called a _subgraph_.\n",
    "\n",
    "In this case, we want to select the subgraph _induced_ by the edges in our path. We could instead take the vertices in the path, and select the subgraph induced by those vertices. In general, selecting but the vertices in a path could contain edges not in the path, although in this specific case that's not possible because the path is a shortest path (any other edge would imply the existence of a shorter path).\n"
   ]
  },
  {
   "cell_type": "code",
   "execution_count": 48,
   "metadata": {},
   "outputs": [
    {
     "data": {
      "image/png": "[encoded data removed]",
      "text/plain": [
       "<Figure size 600x600 with 1 Axes>"
      ]
     },
     "metadata": {},
     "output_type": "display_data"
    }
   ],
   "source": [
    "# Choose an arbitrary path to a DN from those we found.\n",
    "our_path = dn_paths[0]\n",
    "\n",
    "# Get the subgraph spanned by the edges in our path\n",
    "our_path_graph = fw_graph.subgraph_edges(our_path)\n",
    "\n",
    "# Plot it!\n",
    "fig, ax = plt.subplots(figsize=(6, 6))\n",
    "igraph.plot(\n",
    "    our_path_graph,\n",
    "    target=ax,\n",
    "    layout=\"tree\",\n",
    "    vertex_label=fw_annot.loc[our_path_graph.vs[\"name\"]].merged_type,\n",
    "    edge_width=our_path_graph.es[\"syn_count\"],\n",
    "    edge_label=our_path_graph.es[\"syn_count\"],\n",
    "    edge_color=\"#666\",\n",
    "    edge_align_label=True,\n",
    "    edge_background=\"white\",\n",
    ")\n",
    "\n",
    "# Have matplotlib try to expand the plot area to fit our long vertex names\n",
    "fig.tight_layout()\n",
    "plt.show()\n"
   ]
  },
  {
   "cell_type": "markdown",
   "metadata": {},
   "source": [
    "## Exercises & Thoughts\n"
   ]
  },
  {
   "cell_type": "markdown",
   "metadata": {},
   "source": [
    "What is the degree distribution for all vertices in the graph?\n"
   ]
  },
  {
   "cell_type": "markdown",
   "metadata": {},
   "source": [
    "How could we model and test the distribution of synapses (across the graph or with partner)? Exponential? Power law?\n"
   ]
  },
  {
   "cell_type": "markdown",
   "metadata": {},
   "source": [
    "What alternative ways to measure path length better account for synaptic strength?\n"
   ]
  },
  {
   "cell_type": "code",
   "execution_count": null,
   "metadata": {},
   "outputs": [],
   "source": []
  }
 ],
 "metadata": {
  "kernelspec": {
   "display_name": "Python 3 (ipykernel)",
   "language": "python",
   "name": "python3"
  },
  "language_info": {
   "codemirror_mode": {
    "name": "ipython",
    "version": 3
   },
   "file_extension": ".py",
   "mimetype": "text/x-python",
   "name": "python",
   "nbconvert_exporter": "python",
   "pygments_lexer": "ipython3",
   "version": "3.11.3"
  }
 },
 "nbformat": 4,
 "nbformat_minor": 4
}
